{
  "nbformat": 4,
  "nbformat_minor": 0,
  "metadata": {
    "colab": {
      "provenance": []
    },
    "kernelspec": {
      "name": "python3",
      "display_name": "Python 3"
    },
    "language_info": {
      "name": "python"
    }
  },
  "cells": [
    {
      "cell_type": "code",
      "execution_count": 21,
      "metadata": {
        "colab": {
          "base_uri": "https://localhost:8080/"
        },
        "id": "Sgl3K_sfp4dA",
        "outputId": "8e1d4b5e-658f-4637-81d5-408426fe18ea"
      },
      "outputs": [
        {
          "output_type": "stream",
          "name": "stdout",
          "text": [
            "IGU-ISTKA-Quiz-Ders7\n"
          ]
        }
      ],
      "source": [
        "print(\"IGU-ISTKA-Quiz-Ders7\")"
      ]
    },
    {
      "cell_type": "code",
      "source": [
        "import sys\n",
        "print(sys.version)"
      ],
      "metadata": {
        "colab": {
          "base_uri": "https://localhost:8080/"
        },
        "id": "bgKDmCEfp5Ge",
        "outputId": "6618c787-2d67-437d-8fbc-96c1dff0c0c4"
      },
      "execution_count": 5,
      "outputs": [
        {
          "output_type": "stream",
          "name": "stdout",
          "text": [
            "3.10.12 (main, Jul 29 2024, 16:56:48) [GCC 11.4.0]\n"
          ]
        }
      ]
    },
    {
      "cell_type": "code",
      "source": [
        "from google.colab import drive\n",
        "drive.mount('/content/drive')"
      ],
      "metadata": {
        "colab": {
          "base_uri": "https://localhost:8080/"
        },
        "id": "4MhaIxeCp48-",
        "outputId": "7915c968-2840-4418-d546-b57c18a191bc"
      },
      "execution_count": 6,
      "outputs": [
        {
          "output_type": "stream",
          "name": "stdout",
          "text": [
            "Drive already mounted at /content/drive; to attempt to forcibly remount, call drive.mount(\"/content/drive\", force_remount=True).\n"
          ]
        }
      ]
    },
    {
      "cell_type": "code",
      "source": [
        "import os\n",
        "os.chdir('/content/drive/MyDrive/VeriYapilari_Istka')\n",
        "!pwd"
      ],
      "metadata": {
        "colab": {
          "base_uri": "https://localhost:8080/"
        },
        "id": "DqQZZaZ5p46n",
        "outputId": "4bc752f1-f050-40ab-c8fd-50e1c098392b"
      },
      "execution_count": 7,
      "outputs": [
        {
          "output_type": "stream",
          "name": "stdout",
          "text": [
            "/content/drive/MyDrive/VeriYapilari_Istka\n"
          ]
        }
      ]
    },
    {
      "cell_type": "code",
      "source": [
        "#Quiz soru 1\n",
        "isim_listesi = [\"Ali\", \"Şerafettin\", \"Osman\", \"İclal\", \"Ayşe\"]\n",
        "\n",
        "def en_uzun_ismi_bul(isim_listesi):\n",
        "    en_uzun_isim = isim_listesi[0]  # Başlangıçta ilk ismi en uzun olarak varsayıyoruz\n",
        "    for isim in isim_listesi:\n",
        "        if len(isim) > len(en_uzun_isim):\n",
        "            en_uzun_isim = isim  # Daha uzun bir isim bulunursa, en uzun ismi güncelliyoruz\n",
        "    return en_uzun_isim\n",
        "\n",
        "def en_uzun_isim_indeksi_bul(isim_listesi):\n",
        "    en_uzun_indeks = 0  # Başlangıçta ilk ismin indeksini en uzun olarak varsayıyoruz\n",
        "    en_uzun_uzunluk = len(isim_listesi[0])  # İlk ismin uzunluğunu alıyoruz\n",
        "\n",
        "    for i in range(len(isim_listesi)):\n",
        "        if len(isim_listesi[i]) > en_uzun_uzunluk:\n",
        "            en_uzun_uzunluk = len(isim_listesi[i])\n",
        "            en_uzun_indeks = i  # Daha uzun bir isim bulunursa, en uzun ismin indeksini güncelliyoruz\n",
        "\n",
        "    return en_uzun_indeks\n",
        "\n",
        "en_uzun_isim = en_uzun_ismi_bul(isim_listesi)\n",
        "en_uzun_indeks = en_uzun_isim_indeksi_bul(isim_listesi)\n",
        "\n",
        "print(\"En uzun isim: \", en_uzun_isim)\n",
        "print(\"En uzun ismin liste adresi: \", en_uzun_indeks)"
      ],
      "metadata": {
        "colab": {
          "base_uri": "https://localhost:8080/"
        },
        "id": "Lqd6Dn6c2t5-",
        "outputId": "eb79316e-dfbe-4077-c173-0be5a19cefb8"
      },
      "execution_count": 18,
      "outputs": [
        {
          "output_type": "stream",
          "name": "stdout",
          "text": [
            "En uzun isim:  Şerafettin\n",
            "En uzun ismin liste adresi:  1\n"
          ]
        }
      ]
    },
    {
      "cell_type": "code",
      "source": [
        "#Quiz soru 2\n",
        "Sayi_dizisi = []\n",
        "sayi = 1\n",
        "\n",
        "while sayi <= 175:\n",
        "    if sayi % 13 == 0:\n",
        "        Sayi_dizisi.append(sayi)\n",
        "    sayi += 1\n",
        "\n",
        "# Sonucu ekrana yazdır\n",
        "print(\"1 ile 175 arasındaki 13'e bölünen sayılar:\", Sayi_dizisi)\n",
        "print(\"Toplam sayı adeti: \", len(Sayi_dizisi))"
      ],
      "metadata": {
        "colab": {
          "base_uri": "https://localhost:8080/"
        },
        "id": "BPfFtGnE2t03",
        "outputId": "86dac9d7-b86d-445e-f297-668375f4cb91"
      },
      "execution_count": 19,
      "outputs": [
        {
          "output_type": "stream",
          "name": "stdout",
          "text": [
            "1 ile 175 arasındaki 13'e bölünen sayılar: [13, 26, 39, 52, 65, 78, 91, 104, 117, 130, 143, 156, 169]\n",
            "Toplam sayı adeti:  13\n"
          ]
        }
      ]
    },
    {
      "cell_type": "code",
      "source": [
        "import pandas as pd\n",
        "VeriSetiYolu = '/content/drive/MyDrive/VeriYapilari_Istka/VeriSeti'\n",
        "\n",
        "for file in os.listdir(VeriSetiYolu):     #Klasördeki tüm dosyaları listele\n",
        " if file.endswith(('.xlsx', '.xls')):                     # Sadece Excel dosyalarını seç\n",
        "\n",
        "  df = pd.read_excel(os.path.join(VeriSetiYolu, file))  # Excel dosyasını pandas ile oku\n",
        "\n",
        "  df.to_csv(os.path.join(VeriSetiYolu, file.rsplit('.', 1)[0] + '.csv'), index=False)\n",
        "                                                                 # DataFrame'i CSV formatında kaydet\n",
        "  print(f\"{file} dosyası CSV formatına çevrildi.\")     # Çevrim İşlemi Çıktısı\n",
        "\n",
        "# İşlem tamamlandığında kaç tane excel dosyası var ise o kadar *.csv formatına çevildiğinin\n",
        "# bilgisini almaktayız"
      ],
      "metadata": {
        "colab": {
          "base_uri": "https://localhost:8080/"
        },
        "id": "8MaS8zo0EyF9",
        "outputId": "5441c67f-2d70-460c-dd6c-27334a8c89ba"
      },
      "execution_count": 24,
      "outputs": [
        {
          "output_type": "stream",
          "name": "stdout",
          "text": [
            "atktan-geri-kazanm-miktarlar (1).xlsx dosyası CSV formatına çevrildi.\n"
          ]
        }
      ]
    },
    {
      "cell_type": "code",
      "source": [],
      "metadata": {
        "id": "rO02G8xeEyDV"
      },
      "execution_count": null,
      "outputs": []
    },
    {
      "cell_type": "code",
      "source": [],
      "metadata": {
        "id": "QT4ybSbiEyAd"
      },
      "execution_count": null,
      "outputs": []
    }
  ]
}