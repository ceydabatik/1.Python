{
  "nbformat": 4,
  "nbformat_minor": 0,
  "metadata": {
    "colab": {
      "provenance": []
    },
    "kernelspec": {
      "name": "python3",
      "display_name": "Python 3"
    },
    "language_info": {
      "name": "python"
    }
  },
  "cells": [
    {
      "cell_type": "markdown",
      "source": [
        "Python programlama dilinde print komutu ekrandan kullanıcıya bilgi veren bir koddur.\n",
        "Veri yapıları ve algoritma dersi ilk kodlama çıktısı. 19.08.2024"
      ],
      "metadata": {
        "id": "w1monqEz6vwM"
      }
    },
    {
      "cell_type": "code",
      "execution_count": 6,
      "metadata": {
        "colab": {
          "base_uri": "https://localhost:8080/"
        },
        "id": "4BC6fItm2qze",
        "outputId": "6f4ba5de-a728-4f74-cbd7-a35bec5bb649"
      },
      "outputs": [
        {
          "output_type": "stream",
          "name": "stdout",
          "text": [
            "Merhaba, İGÜ - İSTKA/Ders-1\n"
          ]
        }
      ],
      "source": [
        "print(\"Merhaba, İGÜ - İSTKA/Ders-1\")  #print ekrana .ıktı veren bir koddur"
      ]
    },
    {
      "cell_type": "code",
      "source": [
        "import sys #import python proglamlama dilinde yazılıma kütüphane ekleme yarayan bir kod\n",
        "print(sys.version)"
      ],
      "metadata": {
        "colab": {
          "base_uri": "https://localhost:8080/"
        },
        "id": "aR57Qtyc59SX",
        "outputId": "5eee27cc-6652-4954-f5e7-5847cf021d39"
      },
      "execution_count": 5,
      "outputs": [
        {
          "output_type": "stream",
          "name": "stdout",
          "text": [
            "3.10.12 (main, Jul 29 2024, 16:56:48) [GCC 11.4.0]\n"
          ]
        }
      ]
    },
    {
      "cell_type": "code",
      "source": [
        "from google.colab import drive #google colab - drive bağlantısı\n",
        "drive.mount('/content/drive')"
      ],
      "metadata": {
        "colab": {
          "base_uri": "https://localhost:8080/"
        },
        "id": "VwxVsFpS7r1F",
        "outputId": "4b73d902-3392-4fd8-ab67-306134825810"
      },
      "execution_count": 9,
      "outputs": [
        {
          "output_type": "stream",
          "name": "stdout",
          "text": [
            "Mounted at /content/drive\n"
          ]
        }
      ]
    },
    {
      "cell_type": "code",
      "source": [
        "import os\n",
        "os.chdir('/content/drive/MyDrive/VeriYapilari_Istka')\n",
        "!pwd #bize kodun çıktısını dosya yolu olarak veren kod bloğudur"
      ],
      "metadata": {
        "colab": {
          "base_uri": "https://localhost:8080/"
        },
        "id": "blrd7EFn85hf",
        "outputId": "76529017-f4b1-4ac5-97b0-e91d50fa6ea3"
      },
      "execution_count": 12,
      "outputs": [
        {
          "output_type": "stream",
          "name": "stdout",
          "text": [
            "/content/drive/MyDrive/VeriYapilari_Istka\n"
          ]
        }
      ]
    },
    {
      "cell_type": "code",
      "source": [],
      "metadata": {
        "id": "b5xwyRF-6Sk3"
      },
      "execution_count": null,
      "outputs": []
    }
  ]
}