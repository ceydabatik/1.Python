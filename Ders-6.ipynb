{
  "nbformat": 4,
  "nbformat_minor": 0,
  "metadata": {
    "colab": {
      "provenance": []
    },
    "kernelspec": {
      "name": "python3",
      "display_name": "Python 3"
    },
    "language_info": {
      "name": "python"
    }
  },
  "cells": [
    {
      "cell_type": "markdown",
      "source": [
        "Veri yapıları ve algoritma dersi 26.08.2024"
      ],
      "metadata": {
        "id": "sKrMs1J-mSm2"
      }
    },
    {
      "cell_type": "code",
      "execution_count": 1,
      "metadata": {
        "colab": {
          "base_uri": "https://localhost:8080/"
        },
        "id": "ssS5oN52iFL0",
        "outputId": "bd2ccc77-4a6f-48e4-a400-113bf8b3ddc5"
      },
      "outputs": [
        {
          "output_type": "stream",
          "name": "stdout",
          "text": [
            "Merhaba, İGÜ - İSTKA / Ders 6\n"
          ]
        }
      ],
      "source": [
        "print(\"Merhaba, İGÜ - İSTKA / Ders 6\") # print ekrana çıktı veren bir koddur."
      ]
    },
    {
      "cell_type": "code",
      "source": [
        "import sys # import python programlama dilinde yazılıma kütüphane eklemeye yarayan bir kod blogudur.\n",
        "print(sys.version)"
      ],
      "metadata": {
        "colab": {
          "base_uri": "https://localhost:8080/"
        },
        "id": "AWoU8HEUiyiG",
        "outputId": "99e632bc-b3fb-4efc-e48e-b5745cabb7b5"
      },
      "execution_count": 2,
      "outputs": [
        {
          "output_type": "stream",
          "name": "stdout",
          "text": [
            "3.10.12 (main, Jul 29 2024, 16:56:48) [GCC 11.4.0]\n"
          ]
        }
      ]
    },
    {
      "cell_type": "code",
      "source": [
        "from google.colab import drive # google colab - drive bağlantısı\n",
        "\n",
        "drive.mount('/content/drive')"
      ],
      "metadata": {
        "colab": {
          "base_uri": "https://localhost:8080/"
        },
        "id": "A_O77fPdiyfW",
        "outputId": "22e5e35d-a9c0-4f6a-bc3d-005c5ea19e44"
      },
      "execution_count": 3,
      "outputs": [
        {
          "output_type": "stream",
          "name": "stdout",
          "text": [
            "Mounted at /content/drive\n"
          ]
        }
      ]
    },
    {
      "cell_type": "code",
      "source": [
        "import os\n",
        "os.chdir('/content/drive/My Drive/VeriYapilari_Istka')\n",
        "!pwd # bize kodun çıktısını dosya yolu olarak veren kod blogudur."
      ],
      "metadata": {
        "colab": {
          "base_uri": "https://localhost:8080/"
        },
        "id": "L_sXaVr1iyZW",
        "outputId": "60460cb0-c444-4085-f5be-288efc07e542"
      },
      "execution_count": 7,
      "outputs": [
        {
          "output_type": "stream",
          "name": "stdout",
          "text": [
            "/content/drive/My Drive/VeriYapilari_Istka\n"
          ]
        }
      ]
    },
    {
      "cell_type": "code",
      "source": [
        "#Liste tanımlama\n",
        "dizi = [2, 3, 5, 6, 8, 11, 14]\n",
        "\n",
        "#Çift sayıları tutmak için boş liste\n",
        "numaralistesi = []\n",
        "\n",
        "#For ve if ile çift sayıları bulma\n",
        "for i in dizi:\n",
        "  if i % 2 == 0:\n",
        "    numaralistesi.append(i)\n",
        "\n",
        "print(f\"Listede bulunan çift sayılar: {numaralistesi}\")\n",
        "print(\"Adet çift sayı\", len(numaralistesi), \"bulunmaktadır !!!\")"
      ],
      "metadata": {
        "colab": {
          "base_uri": "https://localhost:8080/"
        },
        "id": "fGy6XKi6iyV9",
        "outputId": "6e823c7f-9ea5-4f9a-ea9b-aa9f19fa1e46"
      },
      "execution_count": 8,
      "outputs": [
        {
          "output_type": "stream",
          "name": "stdout",
          "text": [
            "Listede bulunan çift sayılar: [2, 6, 8, 14]\n",
            "Adet çift sayı 4 bulunmaktadır !!!\n"
          ]
        }
      ]
    },
    {
      "cell_type": "code",
      "source": [
        "dizi = [\"elma\", \"muz\", \"çilek\", \"su\", \"cikolata\"] # Malzeme Listesi\n",
        "\n",
        "aranacak_urun = \"muz\" # Aranacak eleman\n",
        "\n",
        "if aranacak_urun in dizi:\n",
        "    print(aranacak_urun, \"liste içerisinde mevcut.\")\n",
        "else:\n",
        "    print(aranacak_urun, \"liste içerisinde mevcut değil.\")"
      ],
      "metadata": {
        "colab": {
          "base_uri": "https://localhost:8080/"
        },
        "id": "BSs7cB0wiyTW",
        "outputId": "089213b7-cafd-4103-d73c-bca17736bc02"
      },
      "execution_count": 9,
      "outputs": [
        {
          "output_type": "stream",
          "name": "stdout",
          "text": [
            "muz liste içerisinde mevcut.\n"
          ]
        }
      ]
    },
    {
      "cell_type": "code",
      "source": [
        "dizi = [\"elma\", \"muz\", \"cilek\", \"su\", \"cikolata\"] #Malzeme Listesi\n",
        "\n",
        "aranacak_urun = input(\"aranacak urun nedir?\") #Aranacak eleman\n",
        "\n",
        "if aranacak_urun in dizi:\n",
        "  print(aranacak_urun, \"liste icerisinde mevcut\")\n",
        "else:\n",
        "  print(aranacak_urun, \"liste icerisinde mevcut degil\")"
      ],
      "metadata": {
        "colab": {
          "base_uri": "https://localhost:8080/"
        },
        "id": "TQfBK_omiyQe",
        "outputId": "7ac54cbd-598f-45e0-bf6f-653e0ff152ba"
      },
      "execution_count": 10,
      "outputs": [
        {
          "output_type": "stream",
          "name": "stdout",
          "text": [
            "aranacak urun nedir?cilek\n",
            "cilek liste icerisinde mevcut\n"
          ]
        }
      ]
    },
    {
      "cell_type": "code",
      "source": [
        "#Matematik toplama işlemi\n",
        "\n",
        "def toplama(a,b):\n",
        "  return a+b\n",
        "#Fonksiyonu çağırarak kulllanma\n",
        "sonuc = toplama(5, 3)\n",
        "print(f\"toplama sonucu:{sonuc}\")\n",
        "print(\"toplama sonuc:\", sonuc)"
      ],
      "metadata": {
        "colab": {
          "base_uri": "https://localhost:8080/"
        },
        "id": "_awa-CSjo4UH",
        "outputId": "82137774-99ae-4a35-9911-5cf4dc6ae433"
      },
      "execution_count": 12,
      "outputs": [
        {
          "output_type": "stream",
          "name": "stdout",
          "text": [
            "toplama sonucu:8\n",
            "toplama sonuc: 8\n"
          ]
        }
      ]
    },
    {
      "cell_type": "code",
      "source": [
        "#Liste elemanlarını toplama\n",
        "sayilar = [1, 2, 3, 4, 5]\n",
        "\n",
        "def liste_toplam(liste):\n",
        "  toplam = 0\n",
        "  for eleman in liste:\n",
        "    toplam += eleman\n",
        "  return toplam\n",
        "\n",
        "# Fonksiyonu çağırarak kullanma\n",
        "sonuc = liste_toplam(sayilar)\n",
        "print(\"Toplama sonucu:\", sonuc)"
      ],
      "metadata": {
        "colab": {
          "base_uri": "https://localhost:8080/"
        },
        "id": "IeHS6j45o4Q3",
        "outputId": "39de5a1a-45eb-400d-cd8d-72e623848712"
      },
      "execution_count": 13,
      "outputs": [
        {
          "output_type": "stream",
          "name": "stdout",
          "text": [
            "Toplama sonucu: 15\n"
          ]
        }
      ]
    },
    {
      "cell_type": "code",
      "source": [
        "# Fibonacci Dizisi Hesaplama\n",
        "def Fibonacci(n):\n",
        "  if n <= 0:\n",
        "    return \"gecersiz giris\"\n",
        "  elif n ==1:\n",
        "    return 0\n",
        "  elif n == 2:\n",
        "    return 1\n",
        "  else:\n",
        "    return Fibonacci(n-1) + Fibonacci(n-2)\n",
        "\n",
        "# Fonksiyonu çağırarak kullanma\n",
        "# n = 7\n",
        "n = int(input(\"Bir sayi giriniz!!\"))\n",
        "sonuc = Fibonacci(n)\n",
        "print(f\"Fibonacci dizisinin {n}. elemanı: {sonuc}\")"
      ],
      "metadata": {
        "colab": {
          "base_uri": "https://localhost:8080/"
        },
        "id": "fBZ9Xp6Fo4OG",
        "outputId": "112610c3-b15d-46fe-a5a0-e2b7644abfbe"
      },
      "execution_count": 17,
      "outputs": [
        {
          "output_type": "stream",
          "name": "stdout",
          "text": [
            "Bir sayi giriniz!!7\n",
            "Fibonacci dizisinin 7. elemanı: 8\n"
          ]
        }
      ]
    },
    {
      "cell_type": "code",
      "source": [
        "# EBOB be EKOK Bulma\n",
        "\n",
        "def ebob(a, b):\n",
        "    while b:\n",
        "        a, b = b, a % b\n",
        "    return a\n",
        "\n",
        "def ekok(a, b):\n",
        "    return a * b // ebob(a, b)\n",
        "\n",
        "# Kullanıcıdan iki sayı al\n",
        "Bir_Sayi = int(input(\"Birinci sayıyı girin: \"))\n",
        "iki_Sayi = int(input(\"İkinci sayıyı girin: \"))\n",
        "\n",
        "# EBOB ve EKOK hesapla\n",
        "ebob_sonuc = ebob(Bir_Sayi, iki_Sayi)\n",
        "ekok_sonuc = ekok(Bir_Sayi, iki_Sayi)\n",
        "\n",
        "# Sonuçları göster\n",
        "print(\"Sayılarının EBOB'u: \", ebob_sonuc)\n",
        "print(\"Sayılarının EKOK'u: \", ekok_sonuc)"
      ],
      "metadata": {
        "colab": {
          "base_uri": "https://localhost:8080/"
        },
        "id": "rffFzAC7o4Le",
        "outputId": "513565c1-ae34-4160-85dc-e2d530b4e841"
      },
      "execution_count": 18,
      "outputs": [
        {
          "output_type": "stream",
          "name": "stdout",
          "text": [
            "Birinci sayıyı girin: 18\n",
            "İkinci sayıyı girin: 24\n",
            "Sayılarının EBOB'u:  6\n",
            "Sayılarının EKOK'u:  72\n"
          ]
        }
      ]
    },
    {
      "cell_type": "code",
      "source": [
        "# Asal Sayı Kontrolü ve Asal Sayılar Listesi\n",
        "def asal_mi(sayi):\n",
        "    if sayi < 2:\n",
        "        return False\n",
        "    for i in range(2, int(sayi ** 0.5) + 1):\n",
        "        if sayi % i == 0:\n",
        "            return False\n",
        "    return True\n",
        "\n",
        "def asal_sayilar(aralik):\n",
        "    asal_listesi = []\n",
        "    for sayi in range(2, aralik + 1):\n",
        "        if asal_mi(sayi):\n",
        "            asal_listesi.append(sayi)\n",
        "    return asal_listesi\n",
        "\n",
        "# Fonksiyonları çağırarak kullanma\n",
        "aralik = 50\n",
        "sonuc = asal_sayilar(aralik)\n",
        "print(\"1 ile\", aralik, \" arasındaki asal sayılar: \", sonuc)"
      ],
      "metadata": {
        "colab": {
          "base_uri": "https://localhost:8080/"
        },
        "id": "Mnl2432lo4IX",
        "outputId": "cc2e92f9-b4bc-47b3-c6f6-48172e456b9d"
      },
      "execution_count": 19,
      "outputs": [
        {
          "output_type": "stream",
          "name": "stdout",
          "text": [
            "1 ile 50  arasındaki asal sayılar:  [2, 3, 5, 7, 11, 13, 17, 19, 23, 29, 31, 37, 41, 43, 47]\n"
          ]
        }
      ]
    },
    {
      "cell_type": "code",
      "source": [
        "buzdolabi = { # Buzdolabındaki meyveler ve miktarlarını tutan sözlük\n",
        "    \"elma\": 5,    # 5 kilo elma\n",
        "    \"muz\": 3,     # 3 kilo muz\n",
        "    \"kiraz\": 2,   # 2 kilo kiraz\n",
        "    \"hurma\": 4    # 4 kilo hurma\n",
        "}\n",
        "\n",
        "def buzdolabi_durumu_yazdir(): # Mevcut buzdolabı durumunu yazdıran fonksiyon\n",
        "    print(\"Buzdolabındaki meyve miktarları:\")\n",
        "    for meyve, miktar in buzdolabi.items():\n",
        "        print(f\"{meyve}: {miktar} kilo\")\n",
        "    print(\"\\n\")\n",
        "\n",
        "\n",
        "def meyve_tuket(meyve, miktar): # Meyveden belirtilen miktarı düşen fonksiyon\n",
        "    if meyve in buzdolabi:\n",
        "        if buzdolabi[meyve] >= miktar:\n",
        "            buzdolabi[meyve] -= miktar\n",
        "            print(f\"{miktar} kilo {meyve} tüketildi.\")\n",
        "            if buzdolabi[meyve] == 0:\n",
        "                print(f\"{meyve} kalmadı. {meyve} almalısın!\")\n",
        "                yeni_miktar = float(input(f\"Kaç kilo {meyve} almak istersiniz?: \"))\n",
        "                buzdolabi[meyve] = yeni_miktar\n",
        "                print(f\"{meyve} buzdolabına {yeni_miktar} kilo olarak eklendi.\")\n",
        "        else:\n",
        "            print(f\"Buzdolabında yeterli {meyve} yok. Mevcut miktar: {buzdolabi[meyve]} kilo.\")\n",
        "    else:\n",
        "        print(f\"Buzdolabında {meyve} bulunmuyor.\")\n",
        "\n",
        "print(\"Buzdolabı Uygulaması\") # Uygulama başlangıc noktası\n",
        "buzdolabi_durumu_yazdir()\n",
        "\n",
        "while True: #Ana döngü tanımlaması\n",
        "    # Kullanıcıdan meyve ve miktar bilgisi alma\n",
        "    meyve = input(\"Hangi meyveyi tüketmek istersiniz? (Çıkmak için 'exit' yazın): \").lower()\n",
        "\n",
        "    if meyve == 'exit':\n",
        "        print(\"Uygulama sonlandırılıyor.\")\n",
        "        break\n",
        "\n",
        "    miktar = float(input(f\"Kaç kilo {meyve} tüketmek istersiniz?: \"))\n",
        "\n",
        "    meyve_tuket(meyve, miktar)     # Meyve tüketme işlemi\n",
        "\n",
        "    buzdolabi_durumu_yazdir()  # Güncellenmiş buzdolabı durumunu yazdırma"
      ],
      "metadata": {
        "colab": {
          "base_uri": "https://localhost:8080/"
        },
        "id": "sDa-HFnl2i8q",
        "outputId": "37dcf404-0a8c-4639-d4d3-f90c9c83494f"
      },
      "execution_count": 20,
      "outputs": [
        {
          "output_type": "stream",
          "name": "stdout",
          "text": [
            "Buzdolabı Uygulaması\n",
            "Buzdolabındaki meyve miktarları:\n",
            "elma: 5 kilo\n",
            "muz: 3 kilo\n",
            "kiraz: 2 kilo\n",
            "hurma: 4 kilo\n",
            "\n",
            "\n",
            "Hangi meyveyi tüketmek istersiniz? (Çıkmak için 'exit' yazın): kiraz\n",
            "Kaç kilo kiraz tüketmek istersiniz?: 1\n",
            "1.0 kilo kiraz tüketildi.\n",
            "Buzdolabındaki meyve miktarları:\n",
            "elma: 5 kilo\n",
            "muz: 3 kilo\n",
            "kiraz: 1.0 kilo\n",
            "hurma: 4 kilo\n",
            "\n",
            "\n",
            "Hangi meyveyi tüketmek istersiniz? (Çıkmak için 'exit' yazın): exit\n",
            "Uygulama sonlandırılıyor.\n"
          ]
        }
      ]
    },
    {
      "cell_type": "code",
      "source": [
        "# Diyet listesindeki besinler ve kalorilerini tutan sözlük (Adet başına kalori)\n",
        "diyet_listesi = {\n",
        "    \"elma\": {\"miktar\": 5, \"kalori\": 52},    # 1 adet elma: 52 kalori\n",
        "    \"muz\": {\"miktar\": 3, \"kalori\": 89},     # 1 adet muz: 89 kalori\n",
        "    \"kiraz\": {\"miktar\": 2, \"kalori\": 50},   # 1 adet kiraz: 50 kalori\n",
        "    \"hurma\": {\"miktar\": 4, \"kalori\": 282}   # 1 adet hurma: 282 kalori\n",
        "}\n",
        "\n",
        "# Mevcut diyet listesini yazdıran fonksiyon\n",
        "def diyet_listesi_yazdir():\n",
        "    print(\"Diyet listesindeki besin miktarları ve kalorileri:\")\n",
        "    for besin, bilgi in diyet_listesi.items():\n",
        "        print(f\"{besin}: {bilgi['miktar']} Adet, Toplam Kalori: {bilgi['miktar'] * bilgi['kalori']} kalori\")\n",
        "    print(\"\\n\")\n",
        "\n",
        "# Besinden belirtilen miktarı düşen ve kalori hesaplayan fonksiyon\n",
        "def besin_tuket(besin, miktar):\n",
        "    if besin in diyet_listesi:\n",
        "        if diyet_listesi[besin][\"miktar\"] >= miktar:\n",
        "            diyet_listesi[besin][\"miktar\"] -= miktar\n",
        "            tuketilen_kalori = miktar * diyet_listesi[besin][\"kalori\"]\n",
        "            print(f\"{miktar} kilo {besin} tüketildi. Alınan kalori: {tuketilen_kalori} kalori.\")\n",
        "            if diyet_listesi[besin][\"miktar\"] == 0:\n",
        "                print(f\"{besin} kalmadı. {besin} almalısın!\")\n",
        "                yeni_miktar = float(input(f\"Kaç kilo {besin} almak istersiniz?: \"))\n",
        "                diyet_listesi[besin][\"miktar\"] = yeni_miktar\n",
        "                print(f\"{besin} diyet listesine {yeni_miktar} kilo olarak eklendi.\")\n",
        "        else:\n",
        "            print(f\"Diyet listesinde yeterli {besin} yok. Mevcut miktar: {diyet_listesi[besin]['miktar']} kilo.\")\n",
        "    else:\n",
        "        print(f\"Diyet listesinde {besin} bulunmuyor.\")\n",
        "\n",
        "print(\"Diyet Uygulaması\") # Uygulama başlangıcı\n",
        "diyet_listesi_yazdir()\n",
        "\n",
        "while True:     # Kullanıcıdan besin ve miktar bilgisi alma\n",
        "\n",
        "    besin = input(\"Hangi besini tüketmek istersiniz? (Çıkmak için 'exit' yazın): \").lower()\n",
        "\n",
        "    if besin == 'exit':\n",
        "        print(\"Uygulama sonlandırılıyor.\")\n",
        "        break\n",
        "\n",
        "    miktar = float(input(f\"Kaç adet {besin} tüketmek istersiniz?: \"))\n",
        "\n",
        "    besin_tuket(besin, miktar)     # Besin tüketme işlemi\n",
        "\n",
        "    diyet_listesi_yazdir()     # Güncellenmiş diyet listesini yazdırma"
      ],
      "metadata": {
        "colab": {
          "base_uri": "https://localhost:8080/"
        },
        "id": "UhAWMKP42i0i",
        "outputId": "0d08152b-ffff-4eca-abb2-c80f54e79bc3"
      },
      "execution_count": 22,
      "outputs": [
        {
          "output_type": "stream",
          "name": "stdout",
          "text": [
            "Diyet Uygulaması\n",
            "Diyet listesindeki besin miktarları ve kalorileri:\n",
            "elma: 5 Adet, Toplam Kalori: 260 kalori\n",
            "muz: 3 Adet, Toplam Kalori: 267 kalori\n",
            "kiraz: 2 Adet, Toplam Kalori: 100 kalori\n",
            "hurma: 4 Adet, Toplam Kalori: 1128 kalori\n",
            "\n",
            "\n",
            "Hangi besini tüketmek istersiniz? (Çıkmak için 'exit' yazın): elma\n",
            "Kaç adet elma tüketmek istersiniz?: 2\n",
            "2.0 kilo elma tüketildi. Alınan kalori: 104.0 kalori.\n",
            "Diyet listesindeki besin miktarları ve kalorileri:\n",
            "elma: 3.0 Adet, Toplam Kalori: 156.0 kalori\n",
            "muz: 3 Adet, Toplam Kalori: 267 kalori\n",
            "kiraz: 2 Adet, Toplam Kalori: 100 kalori\n",
            "hurma: 4 Adet, Toplam Kalori: 1128 kalori\n",
            "\n",
            "\n",
            "Hangi besini tüketmek istersiniz? (Çıkmak için 'exit' yazın): exit\n",
            "Uygulama sonlandırılıyor.\n"
          ]
        }
      ]
    }
  ]
}